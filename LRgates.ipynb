{
 "cells": [
  {
   "cell_type": "code",
   "execution_count": 1,
   "id": "cd272c7a",
   "metadata": {},
   "outputs": [],
   "source": [
    "import numpy as np\n",
    "from numpy import pi\n",
    "from qiskit import QuantumCircuit, transpile, assemble, Aer, IBMQ\n",
    "from qiskit.providers.ibmq import least_busy\n",
    "from qiskit.tools.monitor import job_monitor\n",
    "from qiskit.visualization import plot_histogram, plot_bloch_multivector\n",
    "import qiskit.quantum_info as qi\n",
    "from qiskit.providers.aer import AerSimulator\n",
    "from qiskit.providers.aer.noise import NoiseModel, amplitude_damping_error\n",
    "from qiskit import transpile\n",
    "import matplotlib.pyplot as plt\n",
    "from qiskit.providers.ibmq import least_busy\n",
    "from qiskit import ClassicalRegister, QuantumRegister"
   ]
  },
  {
   "cell_type": "code",
   "execution_count": 2,
   "id": "286d4aa9",
   "metadata": {},
   "outputs": [],
   "source": [
    "n=8 # 2^number of qubits"
   ]
  },
  {
   "cell_type": "code",
   "execution_count": 3,
   "id": "d2a07683",
   "metadata": {
    "scrolled": true
   },
   "outputs": [
    {
     "name": "stdout",
     "output_type": "stream",
     "text": [
      "[[0. 0. 0. 0. 0. 0. 0. 1.]\n",
      " [1. 0. 0. 0. 0. 0. 0. 0.]\n",
      " [0. 1. 0. 0. 0. 0. 0. 0.]\n",
      " [0. 0. 1. 0. 0. 0. 0. 0.]\n",
      " [0. 0. 0. 1. 0. 0. 0. 0.]\n",
      " [0. 0. 0. 0. 1. 0. 0. 0.]\n",
      " [0. 0. 0. 0. 0. 1. 0. 0.]\n",
      " [0. 0. 0. 0. 0. 0. 1. 0.]] \n",
      "\n",
      "[[0. 1. 0. 0. 0. 0. 0. 0.]\n",
      " [0. 0. 1. 0. 0. 0. 0. 0.]\n",
      " [0. 0. 0. 1. 0. 0. 0. 0.]\n",
      " [0. 0. 0. 0. 1. 0. 0. 0.]\n",
      " [0. 0. 0. 0. 0. 1. 0. 0.]\n",
      " [0. 0. 0. 0. 0. 0. 1. 0.]\n",
      " [0. 0. 0. 0. 0. 0. 0. 1.]\n",
      " [1. 0. 0. 0. 0. 0. 0. 0.]]\n"
     ]
    }
   ],
   "source": [
    "#right shift\n",
    "rshift=np.eye(n,k=-1)\n",
    "rshift[0][-1]=1\n",
    "\n",
    "#left shift\n",
    "lshift=np.eye(n,k=1)\n",
    "lshift[-1][0]=1\n",
    "\n",
    "print(rshift,\"\\n\")\n",
    "print(lshift)"
   ]
  },
  {
   "cell_type": "code",
   "execution_count": 4,
   "id": "fe93faaa",
   "metadata": {},
   "outputs": [
    {
     "ename": "NameError",
     "evalue": "name 'r' is not defined",
     "output_type": "error",
     "traceback": [
      "\u001b[1;31m---------------------------------------------------------------------------\u001b[0m",
      "\u001b[1;31mNameError\u001b[0m                                 Traceback (most recent call last)",
      "\u001b[1;32m~\\AppData\\Local\\Temp/ipykernel_14596/3347076406.py\u001b[0m in \u001b[0;36m<module>\u001b[1;34m\u001b[0m\n\u001b[1;32m----> 1\u001b[1;33m \u001b[0mpr\u001b[0m\u001b[1;33m=\u001b[0m\u001b[0mqi\u001b[0m\u001b[1;33m.\u001b[0m\u001b[0mOperator\u001b[0m\u001b[1;33m(\u001b[0m\u001b[0mr\u001b[0m\u001b[1;33m)\u001b[0m\u001b[1;33m\u001b[0m\u001b[1;33m\u001b[0m\u001b[0m\n\u001b[0m\u001b[0;32m      2\u001b[0m \u001b[0mpl\u001b[0m\u001b[1;33m=\u001b[0m\u001b[0mqi\u001b[0m\u001b[1;33m.\u001b[0m\u001b[0mOperator\u001b[0m\u001b[1;33m(\u001b[0m\u001b[0ml\u001b[0m\u001b[1;33m)\u001b[0m\u001b[1;33m\u001b[0m\u001b[1;33m\u001b[0m\u001b[0m\n",
      "\u001b[1;31mNameError\u001b[0m: name 'r' is not defined"
     ]
    }
   ],
   "source": [
    "pr=qi.Operator(r)\n",
    "pl=qi.Operator(l)"
   ]
  },
  {
   "cell_type": "code",
   "execution_count": 341,
   "id": "3faf1fd2",
   "metadata": {
    "scrolled": true
   },
   "outputs": [
    {
     "data": {
      "text/html": [
       "<pre style=\"word-wrap: normal;white-space: pre;background: #fff0;line-height: 1.1;font-family: &quot;Courier New&quot;,Courier,monospace\">     ┌───┐     \n",
       "q_0: ┤ X ├──■──\n",
       "     └───┘  │  \n",
       "q_1: ───────■──\n",
       "     ┌───┐┌─┴─┐\n",
       "q_2: ┤ X ├┤ X ├\n",
       "     └───┘└───┘</pre>"
      ],
      "text/plain": [
       "     ┌───┐     \n",
       "q_0: ┤ X ├──■──\n",
       "     └───┘  │  \n",
       "q_1: ───────■──\n",
       "     ┌───┐┌─┴─┐\n",
       "q_2: ┤ X ├┤ X ├\n",
       "     └───┘└───┘"
      ]
     },
     "execution_count": 341,
     "metadata": {},
     "output_type": "execute_result"
    }
   ],
   "source": [
    "def testToff(a,b,c):\n",
    "    qc = QuantumCircuit(3)\n",
    "    if a:\n",
    "        qc.x(0)\n",
    "    if b:\n",
    "        qc.x(1)\n",
    "    if c:\n",
    "        qc.x(2)\n",
    "    qc.ccx(0,1,2)\n",
    "#     for i in range(3):\n",
    "#         qc.measure(i,i)\n",
    "    return qc\n",
    "\n",
    "tm=testToff(1,0,1)\n",
    "tm.draw()"
   ]
  },
  {
   "cell_type": "code",
   "execution_count": 342,
   "id": "b82ff6cc",
   "metadata": {},
   "outputs": [
    {
     "name": "stdout",
     "output_type": "stream",
     "text": [
      "input: 000\n",
      "[1.+0.j 0.+0.j 0.+0.j 0.+0.j 0.+0.j 0.+0.j 0.+0.j 0.+0.j]\n",
      "\n",
      "\n",
      "input: 001\n",
      "[0.+0.j 0.+0.j 0.+0.j 0.+0.j 1.+0.j 0.+0.j 0.+0.j 0.+0.j]\n",
      "\n",
      "\n",
      "input: 010\n",
      "[0.+0.j 0.+0.j 1.+0.j 0.+0.j 0.+0.j 0.+0.j 0.+0.j 0.+0.j]\n",
      "\n",
      "\n",
      "input: 011\n",
      "[0.+0.j 0.+0.j 0.+0.j 0.+0.j 0.+0.j 0.+0.j 1.+0.j 0.+0.j]\n",
      "\n",
      "\n",
      "input: 100\n",
      "[0.+0.j 1.+0.j 0.+0.j 0.+0.j 0.+0.j 0.+0.j 0.+0.j 0.+0.j]\n",
      "\n",
      "\n",
      "input: 101\n",
      "[0.+0.j 0.+0.j 0.+0.j 0.+0.j 0.+0.j 1.+0.j 0.+0.j 0.+0.j]\n",
      "\n",
      "\n",
      "input: 110\n",
      "[0.+0.j 0.+0.j 0.+0.j 0.+0.j 0.+0.j 0.+0.j 0.+0.j 1.+0.j]\n",
      "\n",
      "\n",
      "input: 111\n",
      "[0.+0.j 0.+0.j 0.+0.j 1.+0.j 0.+0.j 0.+0.j 0.+0.j 0.+0.j]\n",
      "\n",
      "\n"
     ]
    }
   ],
   "source": [
    "for a in range(2):\n",
    "    for b in range(2):\n",
    "        for c in range(2):\n",
    "            print(\"input: \"+str(a)+str(b)+str(c))\n",
    "            t=testToff(a,b,c)\n",
    "            t.save_statevector()\n",
    "            \n",
    "            sv_sim = Aer.get_backend('aer_simulator')\n",
    "            qobj = assemble(t)  # Assemble circuit into a Qobj that can be run\n",
    "            sv = sim.run(qobj).result().get_statevector()  # Do the simulation, returning the state vector\n",
    "            print(sv)\n",
    "            print(\"\\n\")"
   ]
  },
  {
   "cell_type": "code",
   "execution_count": 343,
   "id": "75120816",
   "metadata": {
    "scrolled": false
   },
   "outputs": [
    {
     "name": "stdout",
     "output_type": "stream",
     "text": [
      "[[1. 0. 0. 0. 0. 0. 0. 0.]\n",
      " [0. 1. 0. 0. 0. 0. 0. 0.]\n",
      " [0. 0. 1. 0. 0. 0. 0. 0.]\n",
      " [0. 0. 0. 0. 0. 0. 0. 1.]\n",
      " [0. 0. 0. 0. 1. 0. 0. 0.]\n",
      " [0. 0. 0. 0. 0. 1. 0. 0.]\n",
      " [0. 0. 0. 0. 0. 0. 1. 0.]\n",
      " [0. 0. 0. 1. 0. 0. 0. 0.]]\n"
     ]
    }
   ],
   "source": [
    "toff=np.eye(8)\n",
    "toff[3][-1]=1\n",
    "toff[-1][3]=1\n",
    "toff[-1][-1]=0\n",
    "toff[3][3]=0\n",
    "print(toff)"
   ]
  },
  {
   "cell_type": "code",
   "execution_count": 344,
   "id": "36ccf424",
   "metadata": {
    "scrolled": true
   },
   "outputs": [
    {
     "data": {
      "text/html": [
       "<pre style=\"word-wrap: normal;white-space: pre;background: #fff0;line-height: 1.1;font-family: &quot;Courier New&quot;,Courier,monospace\">     ┌───┐┌──────────┐\n",
       "q_0: ┤ X ├┤0         ├\n",
       "     └───┘│          │\n",
       "q_1: ─────┤1 Toffoli ├\n",
       "     ┌───┐│          │\n",
       "q_2: ┤ X ├┤2         ├\n",
       "     └───┘└──────────┘</pre>"
      ],
      "text/plain": [
       "     ┌───┐┌──────────┐\n",
       "q_0: ┤ X ├┤0         ├\n",
       "     └───┘│          │\n",
       "q_1: ─────┤1 Toffoli ├\n",
       "     ┌───┐│          │\n",
       "q_2: ┤ X ├┤2         ├\n",
       "     └───┘└──────────┘"
      ]
     },
     "execution_count": 344,
     "metadata": {},
     "output_type": "execute_result"
    }
   ],
   "source": [
    "def testToffMatrix(a,b,c):\n",
    "    qc = QuantumCircuit(3)\n",
    "    if a:\n",
    "        qc.x(0)\n",
    "    if b:\n",
    "        qc.x(1)\n",
    "    if c:\n",
    "        qc.x(2)\n",
    "    qc.unitary(toff, [0, 1, 2], label='Toffoli')\n",
    "    return qc\n",
    "\n",
    "tf=testToffMatrix(1,0,1)\n",
    "tf.draw()"
   ]
  },
  {
   "cell_type": "code",
   "execution_count": 345,
   "id": "14c528b4",
   "metadata": {},
   "outputs": [
    {
     "name": "stdout",
     "output_type": "stream",
     "text": [
      "input: 000\n",
      "[1.+0.j 0.+0.j 0.+0.j 0.+0.j 0.+0.j 0.+0.j 0.+0.j 0.+0.j]\n",
      "\n",
      "\n",
      "input: 001\n",
      "[0.+0.j 0.+0.j 0.+0.j 0.+0.j 1.+0.j 0.+0.j 0.+0.j 0.+0.j]\n",
      "\n",
      "\n",
      "input: 010\n",
      "[0.+0.j 0.+0.j 1.+0.j 0.+0.j 0.+0.j 0.+0.j 0.+0.j 0.+0.j]\n",
      "\n",
      "\n",
      "input: 011\n",
      "[0.+0.j 0.+0.j 0.+0.j 0.+0.j 0.+0.j 0.+0.j 1.+0.j 0.+0.j]\n",
      "\n",
      "\n",
      "input: 100\n",
      "[0.+0.j 1.+0.j 0.+0.j 0.+0.j 0.+0.j 0.+0.j 0.+0.j 0.+0.j]\n",
      "\n",
      "\n",
      "input: 101\n",
      "[0.+0.j 0.+0.j 0.+0.j 0.+0.j 0.+0.j 1.+0.j 0.+0.j 0.+0.j]\n",
      "\n",
      "\n",
      "input: 110\n",
      "[0.+0.j 0.+0.j 0.+0.j 0.+0.j 0.+0.j 0.+0.j 0.+0.j 1.+0.j]\n",
      "\n",
      "\n",
      "input: 111\n",
      "[0.+0.j 0.+0.j 0.+0.j 1.+0.j 0.+0.j 0.+0.j 0.+0.j 0.+0.j]\n",
      "\n",
      "\n"
     ]
    }
   ],
   "source": [
    "for i in range(2):\n",
    "    for j in range(2):\n",
    "        for k in range(2):\n",
    "            print(\"input: \"+str(i)+str(j)+str(k))\n",
    "            toffUni=testToffMatrix(i,j,k)\n",
    "            \n",
    "            sv_sim = Aer.get_backend('aer_simulator')\n",
    "            toffUni.save_statevector()\n",
    "            qobj = assemble(toffUni) \n",
    "            sv = sim.run(qobj).result().get_statevector() \n",
    "            print(sv)\n",
    "            print(\"\\n\")"
   ]
  },
  {
   "cell_type": "code",
   "execution_count": null,
   "id": "95516e47",
   "metadata": {},
   "outputs": [],
   "source": []
  },
  {
   "cell_type": "code",
   "execution_count": null,
   "id": "70875381",
   "metadata": {},
   "outputs": [],
   "source": []
  }
 ],
 "metadata": {
  "kernelspec": {
   "display_name": "Python 3 (ipykernel)",
   "language": "python",
   "name": "python3"
  },
  "language_info": {
   "codemirror_mode": {
    "name": "ipython",
    "version": 3
   },
   "file_extension": ".py",
   "mimetype": "text/x-python",
   "name": "python",
   "nbconvert_exporter": "python",
   "pygments_lexer": "ipython3",
   "version": "3.9.7"
  }
 },
 "nbformat": 4,
 "nbformat_minor": 5
}
