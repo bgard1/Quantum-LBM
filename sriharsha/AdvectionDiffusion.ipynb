{
 "cells": [
  {
   "cell_type": "code",
   "execution_count": 348,
   "id": "fa3a5f7a",
   "metadata": {},
   "outputs": [],
   "source": [
    "import numpy as np\n",
    "import qiskit as q\n",
    "from qiskit import QuantumCircuit, transpile, assemble, Aer, IBMQ, QuantumRegister, AncillaRegister\n",
    "from qiskit.quantum_info.operators import Operator\n",
    "from qiskit.quantum_info import Statevector\n",
    "from qiskit.visualization import array_to_latex\n",
    "import matplotlib as mpl\n",
    "import matplotlib.pyplot as plt"
   ]
  },
  {
   "cell_type": "code",
   "execution_count": 349,
   "id": "36405ecd",
   "metadata": {},
   "outputs": [
    {
     "name": "stdout",
     "output_type": "stream",
     "text": [
      "0.6 0.4\n"
     ]
    }
   ],
   "source": [
    "#parameters\n",
    "\n",
    "M = 8 # lattices\n",
    "\n",
    "w1 = 0.5 \n",
    "w2 = 0.5 \n",
    "e1 = 1   ##right\n",
    "e2 = -1  ##left\n",
    "cs = 1   ##speed of sound\n",
    "u = 0.2  ##advection \n",
    "\n",
    "\n",
    "x = w1*(1+e1*u/cs**2)\n",
    "y = w2*(1+e2*u/cs**2)\n",
    "print(x,y)\n",
    "lambda1 = np.round(np.log(complex(x, np.sqrt(1-x**2))), 10)\n",
    "lambda2 = np.round(np.log(complex(y, np.sqrt(1-y**2))), 10)"
   ]
  },
  {
   "cell_type": "code",
   "execution_count": 350,
   "id": "61bd48ee",
   "metadata": {},
   "outputs": [],
   "source": [
    "def oneStep(lambda1,lambda2):\n",
    "    \n",
    "    #initializing\n",
    "    n = int(np.log2(2*M))\n",
    "    q = QuantumRegister(n,'q')\n",
    "    a = AncillaRegister(1,'a')\n",
    "\n",
    "    qc = QuantumCircuit(q)\n",
    "    qc.add_register(a)\n",
    "     \n",
    "    qc.barrier()\n",
    "    \n",
    "    \n",
    "    #collisions\n",
    "    def createC(lambda1, lambda2, isC1 = True):\n",
    "    \n",
    "        if not isC1:\n",
    "            lambda1=np.conj(lambda1)\n",
    "            lambda2=np.conj(lambda2)\n",
    "\n",
    "        lambda1=lambda1.imag\n",
    "        lambda2=lambda2.imag\n",
    "\n",
    "        qc=QuantumCircuit(2)\n",
    "\n",
    "        #phase1 -> x -> phase1 -> x -----ctrl=0\n",
    "        qc.cp(lambda1, 0 ,1 , ctrl_state = 0)\n",
    "        qc.cx(0, 1, ctrl_state = 0)\n",
    "        qc.cp(lambda1, 0, 1, ctrl_state = 0)\n",
    "        qc.cx(0, 1, ctrl_state = 0)\n",
    "\n",
    "        #phase2 -> x -> phase2 -> x -----ctrl=1 is default\n",
    "        qc.cp(lambda2, 0, 1, ctrl_state = 1)\n",
    "        qc.cx(0, 1)\n",
    "        qc.cp(lambda2, 0, 1, ctrl_state = 1)\n",
    "        qc.cx(0, 1)\n",
    "\n",
    "        return qc\n",
    "    \n",
    "    C1 = createC(lambda1, lambda2, True)\n",
    "    c1gate = C1.to_gate(label = 'c1')\n",
    "    C2 = createC(lambda1, lambda2, False)\n",
    "    c2gate = C2.to_gate(label = 'c2')\n",
    "    \n",
    "    #####adding steps to circuit\n",
    "    qc.h(a)\n",
    "    \n",
    "    ##c1 and c2 act on every qubit controlled on ancilla\n",
    "    for i in range(n):\n",
    "        ##qc.append(c1gate.control(1, ctrl_state = 0),[a,n-1,i])\n",
    "        qc.append(c1gate,[a,i])\n",
    "    for i in range(n):\n",
    "        ##qc.append(c2gate.control(1, ctrl_state = 1),[a,n-1,i])\n",
    "        qc.append(c2gate,[a,i])\n",
    "    qc.h(a)\n",
    "    qc.draw()\n",
    "    \n",
    "    \n",
    "    \n",
    "    #propagation\n",
    "    def rshift(n):\n",
    "        circ = QuantumCircuit(n)\n",
    "        for i in range(n):\n",
    "            if i == n-1:\n",
    "                circ.x(i)\n",
    "            else:\n",
    "                circ.mcx(list(range(i+1,n)), i)\n",
    "        return circ\n",
    "\n",
    "    def lshift(n):\n",
    "        circ = QuantumCircuit(n)\n",
    "        for i in reversed(range(n)):\n",
    "            if i == n-1:\n",
    "                circ.x(i)\n",
    "            else:\n",
    "                circ.mcx(list(range(i+1,n)), i)\n",
    "        return circ\n",
    "\n",
    "    R = rshift(n).to_gate(label = \"R\").control(1, ctrl_state = 0)\n",
    "    L = lshift(n).to_gate(label = \"L\").control(1, ctrl_state = 1)\n",
    "    \n",
    "    cbits = [a]\n",
    "    cbits.extend([i for i in range(n-1,-1,-1)])  #### could also be [i for i in range(n-1,-1,-1)]\n",
    "\n",
    "    qc.append(R,cbits)\n",
    "    qc.append(L,cbits)\n",
    "\n",
    "    \n",
    "    ######################### macros\n",
    "#     qc.swap(a,n-1)\n",
    "#     qc.h(a)\n",
    "    #### -> not sure if there is an extra step\n",
    "    \n",
    "    return qc"
   ]
  },
  {
   "cell_type": "code",
   "execution_count": 351,
   "id": "18b484ce",
   "metadata": {
    "scrolled": false
   },
   "outputs": [
    {
     "data": {
      "image/png": "[encoded data removed]",
      "text/plain": [
       "<Figure size 869.197x325.08 with 1 Axes>"
      ]
     },
     "execution_count": 351,
     "metadata": {},
     "output_type": "execute_result"
    }
   ],
   "source": [
    "qc = oneStep(lambda1,lambda2)\n",
    "qc.draw()"
   ]
  },
  {
   "cell_type": "code",
   "execution_count": 352,
   "id": "bd535520",
   "metadata": {},
   "outputs": [],
   "source": [
    "def splitState(ar):\n",
    "    new = [0 for i in range(2*M)]\n",
    "    for i in range(M):\n",
    "        new[i] = ar[i]*x\n",
    "        new[i+M] = ar[i]*y\n",
    "    return new"
   ]
  },
  {
   "cell_type": "code",
   "execution_count": 353,
   "id": "40f1fa71",
   "metadata": {
    "scrolled": true
   },
   "outputs": [
    {
     "data": {
      "text/latex": [
       "$$\n",
       "\n",
       "\\begin{bmatrix}\n",
       "0.25087 & 0 & 0.25087 & 0 & 0.25087 & 0 & 0.50175 & 0 & 0.25087 & 0 & 0.25087 & 0 & 0.25087 & 0 & 0.25087 & 0 & 0.16725 & 0 & 0.16725 & 0 & 0.16725 & 0 & 0.3345 & 0 & 0.16725 & 0 & 0.16725 & 0 & 0.16725 & 0 & 0.16725 & 0  \\\\\n",
       " \\end{bmatrix}\n",
       "$$"
      ],
      "text/plain": [
       "<IPython.core.display.Latex object>"
      ]
     },
     "execution_count": 353,
     "metadata": {},
     "output_type": "execute_result"
    }
   ],
   "source": [
    "##initialization\n",
    "classicalState = [0.1 for i in range(M)]\n",
    "classicalState[3] = 0.2\n",
    "tmp = splitState(classicalState)\n",
    "\n",
    "normState = tmp/np.linalg.norm(tmp) # to normalize\n",
    "sv = Statevector(normState)\n",
    "sv = sv.tensor([1,0])\n",
    "normSV = sv\n",
    "array_to_latex(sv, max_size = 256)\n",
    "# print(len(classicalState),len(tmp2),len(np.array(sv)))"
   ]
  },
  {
   "cell_type": "code",
   "execution_count": 354,
   "id": "5d383889",
   "metadata": {
    "scrolled": false
   },
   "outputs": [
    {
     "data": {
      "text/latex": [
       "$$\n",
       "\n",
       "\\begin{bmatrix}\n",
       "0 & 0.25087 & 0 & 0.25087 & 0 & 0.25087 & 0 & 0.50175 & 0 & 0.25087 & 0 & 0.25087 & 0 & 0.25087 & 0 & 0.25087 & 0 & 0.16725 & 0 & 0.16725 & 0 & 0.3345 & 0 & 0.16725 & 0 & 0.16725 & 0 & 0.16725 & 0 & 0.16725 & 0 & 0.16725  \\\\\n",
       " \\end{bmatrix}\n",
       "$$"
      ],
      "text/plain": [
       "<IPython.core.display.Latex object>"
      ]
     },
     "execution_count": 354,
     "metadata": {},
     "output_type": "execute_result"
    }
   ],
   "source": [
    "sv = sv.evolve(qc)\n",
    "array_to_latex(np.array(sv)[::1],max_size=256)"
   ]
  },
  {
   "cell_type": "code",
   "execution_count": 355,
   "id": "454f819d",
   "metadata": {},
   "outputs": [
    {
     "name": "stderr",
     "output_type": "stream",
     "text": [
      "/Users/sriharshakocherla/Documents/projects/pythonProjects/quantum/quant/lib/python3.9/site-packages/matplotlib/cbook/__init__.py:1298: ComplexWarning: Casting complex values to real discards the imaginary part\n",
      "  return np.asarray(x, float)\n",
      "/Users/sriharshakocherla/Documents/projects/pythonProjects/quantum/quant/lib/python3.9/site-packages/matplotlib/cbook/__init__.py:1298: ComplexWarning: Casting complex values to real discards the imaginary part\n",
      "  return np.asarray(x, float)\n"
     ]
    },
    {
     "data": {
      "text/plain": [
       "[<matplotlib.lines.Line2D at 0x167464970>]"
      ]
     },
     "execution_count": 355,
     "metadata": {},
     "output_type": "execute_result"
    },
    {
     "data": {
      "image/png": "[encoded data removed]",
      "text/plain": [
       "<Figure size 432x288 with 1 Axes>"
      ]
     },
     "metadata": {
      "needs_background": "light"
     },
     "output_type": "display_data"
    }
   ],
   "source": [
    "plt.plot(list(range(0,4*M,2)), np.array(normSV)[::2])\n",
    "plt.plot(list(range(1,4*M,2)), np.array(sv)[1::2])"
   ]
  },
  {
   "cell_type": "code",
   "execution_count": 356,
   "id": "ccbecf4f",
   "metadata": {
    "scrolled": true
   },
   "outputs": [
    {
     "data": {
      "text/plain": [
       "[<matplotlib.lines.Line2D at 0x1674a8880>]"
      ]
     },
     "execution_count": 356,
     "metadata": {},
     "output_type": "execute_result"
    },
    {
     "data": {
      "image/png": "[encoded data removed]",
      "text/plain": [
       "<Figure size 432x288 with 1 Axes>"
      ]
     },
     "metadata": {
      "needs_background": "light"
     },
     "output_type": "display_data"
    }
   ],
   "source": [
    "##do macros classicaly when circuit ends with RL gates\n",
    "tmpx = np.array(normSV)[::2]\n",
    "tmpy = np.array(sv)[1::2]\n",
    "def read(ar):\n",
    "    new = []\n",
    "    for i in range(8):\n",
    "        new.append(ar[i]+ar[i+8])\n",
    "    return new\n",
    "plt.plot(list(range(0,M,1)), read(tmpx)[::1])\n",
    "plt.plot(list(range(1,M+1,1)), read(tmpy)[::1])"
   ]
  },
  {
   "cell_type": "code",
   "execution_count": null,
   "id": "9e46709b",
   "metadata": {},
   "outputs": [],
   "source": []
  }
 ],
 "metadata": {
  "kernelspec": {
   "display_name": "Python 3 (ipykernel)",
   "language": "python",
   "name": "python3"
  },
  "language_info": {
   "codemirror_mode": {
    "name": "ipython",
    "version": 3
   },
   "file_extension": ".py",
   "mimetype": "text/x-python",
   "name": "python",
   "nbconvert_exporter": "python",
   "pygments_lexer": "ipython3",
   "version": "3.9.9"
  }
 },
 "nbformat": 4,
 "nbformat_minor": 5
}
