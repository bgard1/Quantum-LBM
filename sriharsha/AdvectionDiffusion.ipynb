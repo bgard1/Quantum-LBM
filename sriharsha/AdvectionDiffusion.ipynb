{
 "cells": [
  {
   "cell_type": "code",
   "execution_count": 76,
   "id": "fa3a5f7a",
   "metadata": {},
   "outputs": [],
   "source": [
    "import numpy as np\n",
    "from qiskit import QuantumCircuit, transpile, assemble, Aer, IBMQ, QuantumRegister, AncillaRegister\n",
    "from qiskit.quantum_info.operators import Operator\n",
    "from qiskit.quantum_info import Statevector\n",
    "from qiskit.visualization import array_to_latex"
   ]
  },
  {
   "cell_type": "code",
   "execution_count": 77,
   "id": "36405ecd",
   "metadata": {},
   "outputs": [
    {
     "name": "stdout",
     "output_type": "stream",
     "text": [
      "0.6 0.4\n"
     ]
    }
   ],
   "source": [
    "#parameters\n",
    "\n",
    "M = 8 # lattices\n",
    "\n",
    "w1 = 0.5 ##diffusion\n",
    "w2 = 0.5 ##diffusion\n",
    "e1 = 1   ##right\n",
    "e2 = -1  ##left\n",
    "cs = 1   ##speed of sound\n",
    "u = 0.2  ##advection \n",
    "\n",
    "\n",
    "x = w1*(1+e1*u/cs**2)\n",
    "y = w2*(1+e2*u/cs**2)\n",
    "print(x,y)\n",
    "lambda1 = np.round(np.log(complex(x, np.sqrt(1-x**2))), 10)\n",
    "lambda2 = np.round(np.log(complex(y, np.sqrt(1-y**2))), 10)"
   ]
  },
  {
   "cell_type": "code",
   "execution_count": 78,
   "id": "61bd48ee",
   "metadata": {},
   "outputs": [],
   "source": [
    "def oneStep(lambda1,lambda2):\n",
    "    \n",
    "    #initializing\n",
    "\n",
    "    q = QuantumRegister(n,'q')\n",
    "    a = AncillaRegister(1,'a')\n",
    "\n",
    "    qc = QuantumCircuit(q)\n",
    "    qc.add_register(a)\n",
    "     \n",
    "    qc.barrier()\n",
    "    \n",
    "    \n",
    "    #collisions\n",
    "    def createC(lambda1, lambda2, isC1 = True):\n",
    "    \n",
    "        if not isC1:\n",
    "            lambda1=np.conj(lambda1)\n",
    "            lambda2=np.conj(lambda2)\n",
    "\n",
    "        lambda1=lambda1.imag\n",
    "        lambda2=lambda2.imag\n",
    "\n",
    "        qc=QuantumCircuit(2)\n",
    "\n",
    "        #phase1 -> x -> phase1 -> x -----ctrl=0\n",
    "        qc.cp(lambda1, 0 ,1 , ctrl_state = 0)\n",
    "        qc.cx(0, 1, ctrl_state = 0)\n",
    "        qc.cp(lambda1, 0, 1, ctrl_state = 0)\n",
    "        qc.cx(0, 1, ctrl_state = 0)\n",
    "\n",
    "        #phase2 -> x -> phase2 -> x -----ctrl=1 is default\n",
    "        qc.cp(lambda2, 0, 1)\n",
    "        qc.cx(0, 1)\n",
    "        qc.cp(lambda2, 0, 1)\n",
    "        qc.cx(0, 1)\n",
    "\n",
    "        return qc\n",
    "    \n",
    "    C1 = createC(lambda1, lambda2, True)\n",
    "    c1gate = C1.to_gate(label = 'c1')\n",
    "    C2 = createC(lambda1, lambda2, False)\n",
    "    c2gate = C2.to_gate(label = 'c2')\n",
    "    \n",
    "    ######adding steps to circuit\n",
    "    qc.h(a)\n",
    "    \n",
    "    ##c1 and c2 act on every qubit controlled on ancilla\n",
    "    for i in range(n-1):\n",
    "        qc.append(c1gate.control(1, ctrl_state = 0),[a,n-1,i])\n",
    "    for i in range(n-1):\n",
    "        qc.append(c2gate.control(1, ctrl_state = 1),[a,n-1,i])\n",
    "\n",
    "    qc.h(a)\n",
    "    qc.draw()\n",
    "    \n",
    "    \n",
    "    \n",
    "    #propagation\n",
    "    def rshift(n):\n",
    "        circ = QuantumCircuit(n)\n",
    "        for i in range(n):\n",
    "            if i == n-1:\n",
    "                circ.x(i)\n",
    "            else:\n",
    "                circ.mcx(list(range(i+1,n)), i)\n",
    "        return circ\n",
    "\n",
    "    def lshift(n):\n",
    "        circ = QuantumCircuit(n)\n",
    "        for i in reversed(range(n)):\n",
    "            if i == n-1:\n",
    "                circ.x(i)\n",
    "            else:\n",
    "                circ.mcx(list(range(i+1,n)), i)\n",
    "        return circ\n",
    "\n",
    "    R = rshift(n).to_gate(label = \"R\").control(1, ctrl_state = 0)\n",
    "    L = lshift(n).to_gate(label = \"L\").control(1, ctrl_state = 1)\n",
    "    \n",
    "    cbits = [a]\n",
    "    cbits.extend([i for i in range(n)])  #### could also be [i for i in range(n-1,-1,-1)]\n",
    "\n",
    "    qc.append(R,cbits)\n",
    "    qc.append(L,cbits)\n",
    "\n",
    "    \n",
    "    ########################## macros\n",
    "    qc.swap(a,n-1)\n",
    "    qc.h(a)\n",
    "    #### -> not sure if there is an extra step\n",
    "    \n",
    "    return qc"
   ]
  },
  {
   "cell_type": "code",
   "execution_count": 79,
   "id": "18b484ce",
   "metadata": {},
   "outputs": [],
   "source": [
    "qc = oneStep(lambda1,lambda2)"
   ]
  },
  {
   "cell_type": "code",
   "execution_count": 88,
   "id": "40f1fa71",
   "metadata": {
    "scrolled": false
   },
   "outputs": [
    {
     "data": {
      "text/latex": [
       "$$\n",
       "\n",
       "\\begin{bmatrix}\n",
       "0.24495 & 0.24495 & 0.24495 & 0.42426 & 0.24495 & 0.24495 & 0.24495 & 0.24495 & \\tfrac{1}{5} & \\tfrac{1}{5} & \\tfrac{1}{5} & 0.34641 & \\tfrac{1}{5} & \\tfrac{1}{5} & \\tfrac{1}{5} & \\tfrac{1}{5}  \\\\\n",
       " \\end{bmatrix}\n",
       "$$"
      ],
      "text/plain": [
       "<IPython.core.display.Latex object>"
      ]
     },
     "execution_count": 88,
     "metadata": {},
     "output_type": "execute_result"
    }
   ],
   "source": [
    "classicalState = [0.1 for i in range(2*M)]\n",
    "classicalState[3] = 0.3\n",
    "classicalState[3+M] = classicalState[3]\n",
    "\n",
    "for i in range(M):\n",
    "    classicalState[i]*=x\n",
    "for i in range(M,2*M):\n",
    "    classicalState[i]*=y\n",
    "\n",
    "for i in range(2*M):\n",
    "    classicalState[i] = np.sqrt(classicalState[i])### normalization purposes\n",
    "\n",
    "array_to_latex(classicalState, max_size = 32)"
   ]
  },
  {
   "cell_type": "code",
   "execution_count": 85,
   "id": "e47a5d07",
   "metadata": {},
   "outputs": [
    {
     "data": {
      "text/latex": [
       "$$\n",
       "\n",
       "\\begin{bmatrix}\n",
       "0.24495 & 0 & 0.24495 & 0 & 0.24495 & 0 & 0.42426 & 0 & 0.24495 & 0 & 0.24495 & 0 & 0.24495 & 0 & 0.24495 & 0 & \\tfrac{1}{5} & 0 & \\tfrac{1}{5} & 0 & \\tfrac{1}{5} & 0 & 0.34641 & 0 & \\tfrac{1}{5} & 0 & \\tfrac{1}{5} & 0 & \\tfrac{1}{5} & 0 & \\tfrac{1}{5} & 0  \\\\\n",
       " \\end{bmatrix}\n",
       "$$"
      ],
      "text/plain": [
       "<IPython.core.display.Latex object>"
      ]
     },
     "execution_count": 85,
     "metadata": {},
     "output_type": "execute_result"
    }
   ],
   "source": [
    "sv = Statevector(classicalState)  \n",
    "ancillaSV = Statevector([1,0])####need to tensor multiple with ancilla bit\n",
    "tensored = sv.tensor(ancillaSV)\n",
    "array_to_latex(tensored, max_size = 32)"
   ]
  },
  {
   "cell_type": "code",
   "execution_count": 86,
   "id": "cb8fde3f",
   "metadata": {
    "scrolled": true
   },
   "outputs": [],
   "source": [
    "#####doing t timesteps\n",
    "t = 1\n",
    "for i in range(t):\n",
    "    tensored = tensored.evolve(qc)"
   ]
  },
  {
   "cell_type": "code",
   "execution_count": 87,
   "id": "b6517b75",
   "metadata": {},
   "outputs": [
    {
     "data": {
      "text/latex": [
       "$$\n",
       "\n",
       "\\begin{bmatrix}\n",
       "-0.16212 + 0.04978i & -0.16351 - 0.04666i & -0.32563 + 0.00312i & 0 & -0.32563 + 0.00312i & 0 & -0.44431 + 0.03956i & 0 & -0.26587 + 0.00382i & 0 & -0.36277 + 0.04845i & 0 & -0.26587 + 0.00382i & 0 & -0.1335 - 0.05715i & -0.13237 + 0.06097i & 0.16212 - 0.04978i & -0.16351 - 0.04666i & -0.00139 - 0.09644i & 0 & -0.00139 - 0.09644i & 0 & 0.11729 - 0.13288i & 0 & -0.00113 - 0.11812i & 0 & 0.09577 - 0.16275i & 0 & -0.00113 - 0.11812i & 0 & -0.1335 - 0.05715i & 0.13237 - 0.06097i  \\\\\n",
       " \\end{bmatrix}\n",
       "$$"
      ],
      "text/plain": [
       "<IPython.core.display.Latex object>"
      ]
     },
     "execution_count": 87,
     "metadata": {},
     "output_type": "execute_result"
    }
   ],
   "source": [
    "array_to_latex(tensored, max_size = 32)"
   ]
  },
  {
   "cell_type": "code",
   "execution_count": null,
   "id": "d850a165",
   "metadata": {},
   "outputs": [],
   "source": []
  }
 ],
 "metadata": {
  "kernelspec": {
   "display_name": "Python 3 (ipykernel)",
   "language": "python",
   "name": "python3"
  },
  "language_info": {
   "codemirror_mode": {
    "name": "ipython",
    "version": 3
   },
   "file_extension": ".py",
   "mimetype": "text/x-python",
   "name": "python",
   "nbconvert_exporter": "python",
   "pygments_lexer": "ipython3",
   "version": "3.9.9"
  }
 },
 "nbformat": 4,
 "nbformat_minor": 5
}
