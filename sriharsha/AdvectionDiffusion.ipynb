{
 "cells": [
  {
   "cell_type": "code",
   "execution_count": 1,
   "id": "fa3a5f7a",
   "metadata": {},
   "outputs": [],
   "source": [
    "import numpy as np\n",
    "import qiskit as q\n",
    "from qiskit import QuantumCircuit, transpile, assemble, Aer, IBMQ, QuantumRegister, AncillaRegister\n",
    "from qiskit.quantum_info.operators import Operator\n",
    "from qiskit.quantum_info import Statevector\n",
    "from qiskit.visualization import array_to_latex\n",
    "import matplotlib as mpl\n",
    "import matplotlib.pyplot as plt"
   ]
  },
  {
   "cell_type": "code",
   "execution_count": 2,
   "id": "36405ecd",
   "metadata": {},
   "outputs": [
    {
     "name": "stdout",
     "output_type": "stream",
     "text": [
      "0.6 0.4\n"
     ]
    }
   ],
   "source": [
    "#parameters\n",
    "\n",
    "M = 32 # lattices\n",
    "\n",
    "w1 = 0.5 \n",
    "w2 = 0.5 \n",
    "e1 = 1   ##right\n",
    "e2 = -1  ##left\n",
    "cs = 1   ##speed of sound\n",
    "u = 0.2  ##advection \n",
    "\n",
    "\n",
    "x = w1*(1+e1*u/cs**2)\n",
    "y = w2*(1+e2*u/cs**2)\n",
    "print(x,y)\n",
    "lambda1 = np.round(np.log(complex(x, np.sqrt(1-x**2))), 10)\n",
    "lambda2 = np.round(np.log(complex(y, np.sqrt(1-y**2))), 10)"
   ]
  },
  {
   "cell_type": "code",
   "execution_count": 3,
   "id": "61bd48ee",
   "metadata": {},
   "outputs": [],
   "source": [
    "def oneStep(lambda1,lambda2):\n",
    "    \n",
    "    #initializing\n",
    "    n = int(np.log2(2*M))\n",
    "    q = QuantumRegister(n,'q')\n",
    "    a = AncillaRegister(1,'a')\n",
    "\n",
    "    qc = QuantumCircuit(q)\n",
    "    qc.add_register(a)\n",
    "     \n",
    "    qc.barrier()\n",
    "\n",
    "    #collisions\n",
    "    def createC(lambda1, lambda2, isC1 = True):\n",
    "    \n",
    "        if not isC1:\n",
    "#             lambda1=np.conj(lambda1)\n",
    "#             lambda2=np.conj(lambda2)\n",
    "            lambda1 *= -1\n",
    "            lambda2 *= -1\n",
    "\n",
    "#         lambda1=lambda1.imag\n",
    "#         lambda2=lambda2.imag\n",
    "\n",
    "        qc=QuantumCircuit(2)\n",
    "\n",
    "        #phase1 -> x -> phase1 -> x -----ctrl=0\n",
    "        qc.cp(lambda1, 0 ,1 , ctrl_state = 0)\n",
    "        qc.cx(0, 1, ctrl_state = 0)\n",
    "        qc.cp(lambda1, 0, 1, ctrl_state = 0)\n",
    "        qc.cx(0, 1, ctrl_state = 0)\n",
    "\n",
    "        #phase2 -> x -> phase2 -> x -----ctrl=1 is default\n",
    "        qc.cp(lambda2, 0, 1, ctrl_state = 1)\n",
    "        qc.cx(0, 1)\n",
    "        qc.cp(lambda2, 0, 1, ctrl_state = 1)\n",
    "        qc.cx(0, 1)\n",
    "\n",
    "        return qc\n",
    "    \n",
    "    C1 = createC(lambda1, lambda2, True)\n",
    "    c1gate = C1.to_gate(label = 'c1')\n",
    "    C2 = createC(lambda1, lambda2, False)\n",
    "    c2gate = C2.to_gate(label = 'c2')\n",
    "    \n",
    "    \n",
    "    #####adding steps to circuit\n",
    "    qc.h(a)\n",
    "    \n",
    "    ###c1 and c2 act on every qubit controlled on ancilla\n",
    "    for i in range(1):#n-1\n",
    "        qc.append(c1gate.control(1, ctrl_state = 0),[a,n-1,i])\n",
    "        ####qc.append(c1gate,[a,i])\n",
    "    for i in range(1):\n",
    "        qc.append(c2gate.control(1, ctrl_state = 1),[a,n-1,i])\n",
    "        ####qc.append(c2gate,[a,i])\n",
    "    qc.h(a)\n",
    "    qc.draw()\n",
    "    \n",
    "    \n",
    "    \n",
    "    \n",
    "    \n",
    "    \n",
    "    \n",
    "    #propagation\n",
    "    def rshift(n):\n",
    "        circ = QuantumCircuit(n-1)\n",
    "        for i in range(n-1):\n",
    "            if i == n-2:\n",
    "                circ.x(i)\n",
    "            else:\n",
    "                circ.mcx(list(range(i+1,n-1)), i)\n",
    "        return circ\n",
    "\n",
    "    def lshift(n):\n",
    "        circ = QuantumCircuit(n-1)\n",
    "        for i in reversed(range(n-1)):\n",
    "            if i == n-2:\n",
    "                circ.x(i)\n",
    "            else:\n",
    "                circ.mcx(list(range(i+1,n-1)), i)\n",
    "        return circ\n",
    "    \n",
    "    qc.barrier()\n",
    "    R = rshift(n).to_gate(label = \"R\").control(1, ctrl_state = 0)#.control(1, ctrl_state = 0)\n",
    "    L = lshift(n).to_gate(label = \"L\").control(1, ctrl_state = 1)#.control(1, ctrl_state = 0)\n",
    "    \n",
    "    cbits = [n-1]\n",
    "    cbits.extend([i for i in range(n-2,-1,-1)])  #### could also be [i for i in range(n-1,-1,-1)]\n",
    "\n",
    "    qc.append(R,cbits)\n",
    "    qc.append(L,cbits)\n",
    "\n",
    "    \n",
    "#     ######################### macros\n",
    "    qc.swap(a,n-1)\n",
    "    qc.h(a)\n",
    "    #### -> not sure if there is an extra step\n",
    "    return qc"
   ]
  },
  {
   "cell_type": "code",
   "execution_count": 4,
   "id": "18b484ce",
   "metadata": {
    "scrolled": false
   },
   "outputs": [
    {
     "data": {
      "image/png": "[encoded data removed]",
      "text/plain": [
       "<Figure size 688.597x445.48 with 1 Axes>"
      ]
     },
     "execution_count": 4,
     "metadata": {},
     "output_type": "execute_result"
    }
   ],
   "source": [
    "qc = oneStep(np.arccos(x),np.arccos(y))\n",
    "# qc = oneStep(lambda1,lambda2)\n",
    "qc.draw()"
   ]
  },
  {
   "cell_type": "code",
   "execution_count": 5,
   "id": "40f1fa71",
   "metadata": {
    "scrolled": false
   },
   "outputs": [
    {
     "data": {
      "text/latex": [
       "$$\n",
       "\n",
       "\\begin{bmatrix}\n",
       "0.11547 & 0.11547 & 0.11547 & 0.11547 & 0.11547 & 0.11547 & 0.11547 & 0.17321 & 0.23094 & 0.17321 & 0.11547 & 0.11547 & 0.11547 & 0.11547 & 0.11547 & 0.11547 & 0.11547 & 0.11547 & 0.11547 & 0.11547 & 0.11547 & 0.11547 & 0.11547 & 0.11547 & 0.11547 & 0.11547 & 0.11547 & 0.11547 & 0.11547 & 0.11547 & 0.11547 & 0.11547 & 0.11547 & 0.11547 & 0.11547 & 0.11547 & 0.11547 & 0.11547 & 0.11547 & 0.17321 & 0.23094 & 0.17321 & 0.11547 & 0.11547 & 0.11547 & 0.11547 & 0.11547 & 0.11547 & 0.11547 & 0.11547 & 0.11547 & 0.11547 & 0.11547 & 0.11547 & 0.11547 & 0.11547 & 0.11547 & 0.11547 & 0.11547 & 0.11547 & 0.11547 & 0.11547 & 0.11547 & 0.11547 & 0 & 0 & 0 & 0 & 0 & 0 & 0 & 0 & 0 & 0 & 0 & 0 & 0 & 0 & 0 & 0 & 0 & 0 & 0 & 0 & 0 & 0 & 0 & 0 & 0 & 0 & 0 & 0 & 0 & 0 & 0 & 0 & 0 & 0 & 0 & 0 & 0 & 0 & 0 & 0 & 0 & 0 & 0 & 0 & 0 & 0 & 0 & 0 & 0 & 0 & 0 & 0 & 0 & 0 & 0 & 0 & 0 & 0 & 0 & 0 & 0 & 0 & 0 & 0  \\\\\n",
       " \\end{bmatrix}\n",
       "$$"
      ],
      "text/plain": [
       "<IPython.core.display.Latex object>"
      ]
     },
     "execution_count": 5,
     "metadata": {},
     "output_type": "execute_result"
    }
   ],
   "source": [
    "####initialization\n",
    "classicalState = [0.1 for i in range(M)]\n",
    "classicalState[8] = 0.2\n",
    "classicalState[7]=.1+.1*1/2\n",
    "classicalState[9]=classicalState[7]\n",
    "\n",
    "tmp = classicalState+classicalState\n",
    "\n",
    "normState = tmp/np.linalg.norm(tmp) # to normalize\n",
    "sv = Statevector(normState)\n",
    "sv = sv.expand([1,0])\n",
    "\n",
    "normSV = sv\n",
    "array_to_latex(sv, max_size = 256)"
   ]
  },
  {
   "cell_type": "code",
   "execution_count": 6,
   "id": "5d383889",
   "metadata": {
    "scrolled": false
   },
   "outputs": [
    {
     "data": {
      "text/latex": [
       "$$\n",
       "\n",
       "\\begin{bmatrix}\n",
       "0.08165 & 0.08165 & 0.08165 & 0.08165 & 0.08165 & 0.08165 & 0.09798 & 0.11431 & 0.12247 & 0.13064 & 0.10614 & 0.08165 & 0.08165 & 0.08165 & 0.08165 & 0.08165 & 0.08165 & 0.08165 & 0.08165 & 0.08165 & 0.08165 & 0.08165 & 0.08165 & 0.08165 & 0.08165 & 0.08165 & 0.08165 & 0.08165 & 0.08165 & 0.08165 & 0.08165 & 0.08165 & 0.14015i & 0.14015i & 0.14015i & 0.14015i & 0.14015i & 0.14015i & 0.17757i & 0.21499i & 0.21023i & 0.20547i & 0.17281i & 0.14015i & 0.14015i & 0.14015i & 0.14015i & 0.14015i & 0.14015i & 0.14015i & 0.14015i & 0.14015i & 0.14015i & 0.14015i & 0.14015i & 0.14015i & 0.14015i & 0.14015i & 0.14015i & 0.14015i & 0.14015i & 0.14015i & 0.14015i & 0.14015i & 0.01633 & 0.01633 & 0.01633 & 0.01633 & 0.01633 & 0.01633 & 0 & -0.01633 & 0.02449 & 0.06532 & 0.04082 & 0.01633 & 0.01633 & 0.01633 & 0.01633 & 0.01633 & 0.01633 & 0.01633 & 0.01633 & 0.01633 & 0.01633 & 0.01633 & 0.01633 & 0.01633 & 0.01633 & 0.01633 & 0.01633 & 0.01633 & 0.01633 & 0.01633 & 0.01633 & 0.01633 & -0.00951i & -0.00951i & -0.00951i & -0.00951i & -0.00951i & -0.00951i & -0.04693i & -0.08435i & -0.01427i & 0.05581i & 0.02315i & -0.00951i & -0.00951i & -0.00951i & -0.00951i & -0.00951i & -0.00951i & -0.00951i & -0.00951i & -0.00951i & -0.00951i & -0.00951i & -0.00951i & -0.00951i & -0.00951i & -0.00951i & -0.00951i & -0.00951i & -0.00951i & -0.00951i & -0.00951i & -0.00951i  \\\\\n",
       " \\end{bmatrix}\n",
       "$$"
      ],
      "text/plain": [
       "<IPython.core.display.Latex object>"
      ]
     },
     "execution_count": 6,
     "metadata": {},
     "output_type": "execute_result"
    }
   ],
   "source": [
    "sv = sv.evolve(qc)\n",
    "array_to_latex(np.array(sv)[::1],max_size=256)"
   ]
  },
  {
   "cell_type": "code",
   "execution_count": 7,
   "id": "454f819d",
   "metadata": {
    "scrolled": false
   },
   "outputs": [
    {
     "name": "stderr",
     "output_type": "stream",
     "text": [
      "/Users/sriharshakocherla/Documents/projects/pythonProjects/quantum/quant/lib/python3.9/site-packages/matplotlib/cbook/__init__.py:1298: ComplexWarning: Casting complex values to real discards the imaginary part\n",
      "  return np.asarray(x, float)\n",
      "/Users/sriharshakocherla/Documents/projects/pythonProjects/quantum/quant/lib/python3.9/site-packages/matplotlib/cbook/__init__.py:1298: ComplexWarning: Casting complex values to real discards the imaginary part\n",
      "  return np.asarray(x, float)\n",
      "/Users/sriharshakocherla/Documents/projects/pythonProjects/quantum/quant/lib/python3.9/site-packages/matplotlib/cbook/__init__.py:1298: ComplexWarning: Casting complex values to real discards the imaginary part\n",
      "  return np.asarray(x, float)\n",
      "/Users/sriharshakocherla/Documents/projects/pythonProjects/quantum/quant/lib/python3.9/site-packages/matplotlib/cbook/__init__.py:1298: ComplexWarning: Casting complex values to real discards the imaginary part\n",
      "  return np.asarray(x, float)\n",
      "/Users/sriharshakocherla/Documents/projects/pythonProjects/quantum/quant/lib/python3.9/site-packages/matplotlib/cbook/__init__.py:1298: ComplexWarning: Casting complex values to real discards the imaginary part\n",
      "  return np.asarray(x, float)\n",
      "/Users/sriharshakocherla/Documents/projects/pythonProjects/quantum/quant/lib/python3.9/site-packages/matplotlib/cbook/__init__.py:1298: ComplexWarning: Casting complex values to real discards the imaginary part\n",
      "  return np.asarray(x, float)\n",
      "/Users/sriharshakocherla/Documents/projects/pythonProjects/quantum/quant/lib/python3.9/site-packages/matplotlib/cbook/__init__.py:1298: ComplexWarning: Casting complex values to real discards the imaginary part\n",
      "  return np.asarray(x, float)\n",
      "/Users/sriharshakocherla/Documents/projects/pythonProjects/quantum/quant/lib/python3.9/site-packages/matplotlib/cbook/__init__.py:1298: ComplexWarning: Casting complex values to real discards the imaginary part\n",
      "  return np.asarray(x, float)\n",
      "/Users/sriharshakocherla/Documents/projects/pythonProjects/quantum/quant/lib/python3.9/site-packages/matplotlib/cbook/__init__.py:1298: ComplexWarning: Casting complex values to real discards the imaginary part\n",
      "  return np.asarray(x, float)\n",
      "/Users/sriharshakocherla/Documents/projects/pythonProjects/quantum/quant/lib/python3.9/site-packages/matplotlib/cbook/__init__.py:1298: ComplexWarning: Casting complex values to real discards the imaginary part\n",
      "  return np.asarray(x, float)\n",
      "/Users/sriharshakocherla/Documents/projects/pythonProjects/quantum/quant/lib/python3.9/site-packages/matplotlib/cbook/__init__.py:1298: ComplexWarning: Casting complex values to real discards the imaginary part\n",
      "  return np.asarray(x, float)\n",
      "/Users/sriharshakocherla/Documents/projects/pythonProjects/quantum/quant/lib/python3.9/site-packages/matplotlib/cbook/__init__.py:1298: ComplexWarning: Casting complex values to real discards the imaginary part\n",
      "  return np.asarray(x, float)\n"
     ]
    },
    {
     "data": {
      "text/plain": [
       "[<matplotlib.lines.Line2D at 0x14932fee0>]"
      ]
     },
     "execution_count": 7,
     "metadata": {},
     "output_type": "execute_result"
    },
    {
     "data": {
      "image/png": "[encoded data removed]",
      "text/plain": [
       "<Figure size 432x288 with 1 Axes>"
      ]
     },
     "metadata": {
      "needs_background": "light"
     },
     "output_type": "display_data"
    }
   ],
   "source": [
    "plt.plot(list(range(0,M,1)), np.array(normSV)[:M:1],\"blue\")\n",
    "plt.plot(list(range(M,2*M,1)), np.array(normSV)[M:2*M:1],\"blue\")\n",
    "plt.plot(list(range(2*M,3*M,1)), np.array(normSV)[2*M:3*M:1],\"blue\")\n",
    "plt.plot(list(range(3*M,4*M,1)), np.array(normSV)[3*M::1],\"blue\")\n",
    "\n",
    "plt.plot(list(range(0,M,1)), np.array(sv)[:M:1],\"orange\")\n",
    "plt.plot(list(range(M,2*M,1)), np.array(sv)[M:2*M:1],\"orange\")\n",
    "plt.plot(list(range(2*M,3*M,1)), np.array(sv)[2*M:3*M:1],\"orange\")\n",
    "plt.plot(list(range(3*M,4*M,1)), np.array(sv)[3*M::1],\"orange\")\n",
    "\n",
    "tst = np.array(sv)*np.linalg.norm(sv)\n",
    "tst *= np.sqrt(2)\n",
    "# print(tst)\n",
    "sv = Statevector(tst)\n",
    "plt.plot(list(range(0,M,1)), np.array(sv)[:M:1],\"red\")\n",
    "plt.plot(list(range(M,2*M,1)), np.array(sv)[M:2*M:1],\"red\")\n",
    "plt.plot(list(range(2*M,3*M,1)), np.array(sv)[2*M:3*M:1],\"red\")\n",
    "plt.plot(list(range(3*M,4*M,1)), np.array(sv)[3*M::1],\"red\")\n",
    "####blue is original"
   ]
  }
 ],
 "metadata": {
  "kernelspec": {
   "display_name": "Python 3 (ipykernel)",
   "language": "python",
   "name": "python3"
  },
  "language_info": {
   "codemirror_mode": {
    "name": "ipython",
    "version": 3
   },
   "file_extension": ".py",
   "mimetype": "text/x-python",
   "name": "python",
   "nbconvert_exporter": "python",
   "pygments_lexer": "ipython3",
   "version": "3.9.10"
  }
 },
 "nbformat": 4,
 "nbformat_minor": 5
}
