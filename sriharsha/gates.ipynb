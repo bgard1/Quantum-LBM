{
 "cells": [
  {
   "cell_type": "code",
   "execution_count": 48,
   "id": "d74d9066",
   "metadata": {},
   "outputs": [],
   "source": [
    "import numpy as np\n",
    "from qiskit import QuantumCircuit, transpile, assemble, Aer, IBMQ\n",
    "from qiskit.quantum_info.operators import Operator"
   ]
  },
  {
   "cell_type": "markdown",
   "id": "a2542897",
   "metadata": {},
   "source": [
    "# C1 and C2"
   ]
  },
  {
   "cell_type": "code",
   "execution_count": 49,
   "id": "d7318c5a",
   "metadata": {},
   "outputs": [
    {
     "name": "stdout",
     "output_type": "stream",
     "text": [
      "0.927295218j 1.1592794807j\n"
     ]
    }
   ],
   "source": [
    "#parameters: w1,w2=0.5   e1,e2=+/-1     cs=1   u=0.2   \n",
    "# x=w1(1+e1*u/cs^2) = 0.6         equation 3 link 1\n",
    "# y=w2(1+e2*u/cs^2) = 0.4         equation 3 link 2\n",
    "x = 0.6\n",
    "y = 0.4\n",
    "\n",
    "\n",
    "# lambda1= x +/- i Sqrt(1-x^2)      \n",
    "# lambda2= y +/- i Sqrt(1-y^2)         \n",
    "# positive for C1, negative for C2\n",
    "\n",
    "lambda1 = np.round(np.log(complex(x, np.sqrt(1-x**2))), 10)  \n",
    "lambda2 = np.round(np.log(complex(y, np.sqrt(1-y**2))), 10)\n",
    "\n",
    "print(lambda1,lambda2) #log of complex number returns imaginary number"
   ]
  },
  {
   "cell_type": "code",
   "execution_count": 50,
   "id": "a849f51b",
   "metadata": {},
   "outputs": [],
   "source": [
    "def createC(lambda1, lambda2, isC1 = True):\n",
    "    \n",
    "    if not isC1:\n",
    "        lambda1=np.conj(lambda1)\n",
    "        lambda2=np.conj(lambda2)\n",
    "    \n",
    "    lambda1=lambda1.imag#temporary\n",
    "    lambda2=lambda2.imag#temporary\n",
    "    \n",
    "    qc=QuantumCircuit(2)\n",
    "    \n",
    "    #phase1 -> x -> phase1 -> x -----ctrl=0\n",
    "    qc.cp(lambda1, 0 ,1 , ctrl_state = 0)\n",
    "    qc.cx(0, 1, ctrl_state = 0)\n",
    "    qc.cp(lambda1, 0, 1, ctrl_state = 0)\n",
    "    qc.cx(0, 1, ctrl_state = 0)\n",
    "    \n",
    "    #phase2 -> x -> phase2 -> x -----ctrl=1 is default\n",
    "    qc.cp(lambda2, 0, 1)\n",
    "    qc.cx(0, 1)\n",
    "    qc.cp(lambda2, 0, 1)\n",
    "    qc.cx(0, 1)\n",
    "    \n",
    "    return qc"
   ]
  },
  {
   "cell_type": "code",
   "execution_count": 51,
   "id": "38d55c11",
   "metadata": {
    "scrolled": true
   },
   "outputs": [
    {
     "data": {
      "text/html": [
       "<pre style=\"word-wrap: normal;white-space: pre;background: #fff0;line-height: 1.1;font-family: &quot;Courier New&quot;,Courier,monospace\">                                                                         \n",
       "q_0: ─o────────────o───o────────────o───■────────────■───■────────────■──\n",
       "      │P(0.9273) ┌─┴─┐ │P(0.9273) ┌─┴─┐ │P(1.1593) ┌─┴─┐ │P(1.1593) ┌─┴─┐\n",
       "q_1: ─■──────────┤ X ├─■──────────┤ X ├─■──────────┤ X ├─■──────────┤ X ├\n",
       "                 └───┘            └───┘            └───┘            └───┘</pre>"
      ],
      "text/plain": [
       "                                                                         \n",
       "q_0: ─o────────────o───o────────────o───■────────────■───■────────────■──\n",
       "      │P(0.9273) ┌─┴─┐ │P(0.9273) ┌─┴─┐ │P(1.1593) ┌─┴─┐ │P(1.1593) ┌─┴─┐\n",
       "q_1: ─■──────────┤ X ├─■──────────┤ X ├─■──────────┤ X ├─■──────────┤ X ├\n",
       "                 └───┘            └───┘            └───┘            └───┘"
      ]
     },
     "execution_count": 51,
     "metadata": {},
     "output_type": "execute_result"
    }
   ],
   "source": [
    "C1 = createC(lambda1, lambda2, True)\n",
    "C1.draw()"
   ]
  },
  {
   "cell_type": "code",
   "execution_count": 52,
   "id": "f47ae755",
   "metadata": {},
   "outputs": [
    {
     "data": {
      "text/html": [
       "<pre style=\"word-wrap: normal;white-space: pre;background: #fff0;line-height: 1.1;font-family: &quot;Courier New&quot;,Courier,monospace\">                                                                             \n",
       "q_0: ─o─────────────o───o─────────────o───■─────────────■───■─────────────■──\n",
       "      │P(-0.9273) ┌─┴─┐ │P(-0.9273) ┌─┴─┐ │P(-1.1593) ┌─┴─┐ │P(-1.1593) ┌─┴─┐\n",
       "q_1: ─■───────────┤ X ├─■───────────┤ X ├─■───────────┤ X ├─■───────────┤ X ├\n",
       "                  └───┘             └───┘             └───┘             └───┘</pre>"
      ],
      "text/plain": [
       "                                                                             \n",
       "q_0: ─o─────────────o───o─────────────o───■─────────────■───■─────────────■──\n",
       "      │P(-0.9273) ┌─┴─┐ │P(-0.9273) ┌─┴─┐ │P(-1.1593) ┌─┴─┐ │P(-1.1593) ┌─┴─┐\n",
       "q_1: ─■───────────┤ X ├─■───────────┤ X ├─■───────────┤ X ├─■───────────┤ X ├\n",
       "                  └───┘             └───┘             └───┘             └───┘"
      ]
     },
     "execution_count": 52,
     "metadata": {},
     "output_type": "execute_result"
    }
   ],
   "source": [
    "C2 = createC(lambda1, lambda2, False)\n",
    "C2.draw()"
   ]
  },
  {
   "cell_type": "markdown",
   "id": "d96ce695",
   "metadata": {},
   "source": [
    "# L and R gates"
   ]
  },
  {
   "cell_type": "code",
   "execution_count": 53,
   "id": "159758bc",
   "metadata": {},
   "outputs": [
    {
     "name": "stdout",
     "output_type": "stream",
     "text": [
      "[[0. 0. 0. 1.]\n",
      " [1. 0. 0. 0.]\n",
      " [0. 1. 0. 0.]\n",
      " [0. 0. 1. 0.]] \n",
      "\n",
      " [[0. 1. 0. 0.]\n",
      " [0. 0. 1. 0.]\n",
      " [0. 0. 0. 1.]\n",
      " [1. 0. 0. 0.]]\n"
     ]
    }
   ],
   "source": [
    "n = 4 # 2^number of qubits\n",
    "\n",
    "#right shift\n",
    "rshift = np.eye(n,k = -1)\n",
    "rshift[0][-1] = 1\n",
    "\n",
    "#left shift\n",
    "lshift = np.eye(n,k = 1)\n",
    "lshift[-1][0] = 1\n",
    "\n",
    "print(rshift,\"\\n\\n\", lshift)"
   ]
  },
  {
   "cell_type": "code",
   "execution_count": 54,
   "id": "fad38c61",
   "metadata": {},
   "outputs": [],
   "source": [
    "R = Operator(rshift)\n",
    "L = Operator(lshift)"
   ]
  },
  {
   "cell_type": "code",
   "execution_count": null,
   "id": "6c46a5bc",
   "metadata": {},
   "outputs": [],
   "source": []
  }
 ],
 "metadata": {
  "kernelspec": {
   "display_name": "Python 3 (ipykernel)",
   "language": "python",
   "name": "python3"
  },
  "language_info": {
   "codemirror_mode": {
    "name": "ipython",
    "version": 3
   },
   "file_extension": ".py",
   "mimetype": "text/x-python",
   "name": "python",
   "nbconvert_exporter": "python",
   "pygments_lexer": "ipython3",
   "version": "3.9.7"
  }
 },
 "nbformat": 4,
 "nbformat_minor": 5
}
