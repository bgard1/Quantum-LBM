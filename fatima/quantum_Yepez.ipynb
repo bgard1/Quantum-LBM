{
 "cells": [
  {
   "cell_type": "code",
   "execution_count": 1,
   "id": "artificial-photograph",
   "metadata": {},
   "outputs": [
    {
     "name": "stderr",
     "output_type": "stream",
     "text": [
      "/Users/fatimaezahrachrit/anaconda3/lib/python3.7/site-packages/ipykernel_launcher.py:6: DeprecationWarning: The qiskit.ignis package is deprecated and has been supersceded by the qiskit-experiments project. Refer to the migration guide: https://github.com/Qiskit/qiskit-ignis#migration-guide on how to migrate to the new project.\n",
      "  \n"
     ]
    }
   ],
   "source": [
    "import numpy as np\n",
    "from qiskit import QuantumCircuit, transpile, assemble, Aer, IBMQ, QuantumRegister, AncillaRegister, execute\n",
    "from qiskit.quantum_info.operators import Operator\n",
    "from qiskit.quantum_info import Statevector\n",
    "from qiskit.visualization import array_to_latex, plot_histogram, plot_bloch_multivector\n",
    "from qiskit.ignis.verification import marginal_counts\n",
    "from qiskit.result import marginal_counts\n",
    "import matplotlib.pyplot as plt\n",
    "import time\n"
   ]
  },
  {
   "cell_type": "code",
   "execution_count": 2,
   "id": "light-enzyme",
   "metadata": {},
   "outputs": [
    {
     "data": {
      "image/png": "[encoded data removed]",
      "text/plain": [
       "<Figure size 432x288 with 1 Axes>"
      ]
     },
     "metadata": {
      "needs_background": "light"
     },
     "output_type": "display_data"
    }
   ],
   "source": [
    "# D1Q2 lattice constants\n",
    "L = 5  #domain length\n",
    "M = L+1  # number of lattice sites\n",
    "x = np.array(range(M))\n",
    "D = 0.15    #diffusion constant\n",
    "w = np.array([0.5, 0.5]) # weight coeffecients\n",
    "cx = np.array([1, -1])   #lattice velocities\n",
    "csq = 1   #square of sound speed\n",
    "ux = 0.  # advection x-velocity\n",
    "# numberOfShots = 100\n",
    "sigma0 = L/10\n",
    "mu0 = np.ceil(L/2)\n",
    "\n",
    "def compute_feq(rho, w, cx, ux, csq):\n",
    "    feq = np.zeros((2,M))\n",
    "    for i in range(2):\n",
    "        feq[i] = w[i] * (1 + cx[i]*ux/csq) * rho\n",
    "    return feq\n",
    "\n",
    "def ini(x, w, cx, ux, csq):\n",
    "    M = len(x)\n",
    "#     rho = np.ones(M)    #initial density\n",
    "    rho = 1/4 * np.exp(-(x-mu0)**2 / sigma0**2) + 1/2\n",
    "    feq = compute_feq(rho, w, cx, ux, csq)\n",
    "    f = feq\n",
    "    return f, rho\n",
    "\n",
    "f, rho = ini(x, w, cx, ux, csq)\n",
    "plt.plot(x, rho)\n",
    "plt.xlabel('Lattice site')\n",
    "plt.ylabel('Density')\n",
    "plt.title('Solution at t = 0' )\n",
    "plt.savefig('initial_solution_M' + str(M) )"
   ]
  },
  {
   "cell_type": "code",
   "execution_count": 3,
   "id": "robust-immigration",
   "metadata": {},
   "outputs": [],
   "source": [
    "# qc1 = QuantumCircuit(2*M)\n",
    "\n",
    "def update_encoding(qc, f, M):\n",
    "    for k in range(M):\n",
    "        for i in range(2):    \n",
    "            amp0 = np.sqrt(1-f[i][k])\n",
    "            amp1 = np.sqrt(f[i][k])\n",
    "#             print(amp0,amp1)\n",
    "#             print('########')\n",
    "            qc.initialize([amp0, amp1], i+2*k)  \n",
    "    return qc\n",
    "\n",
    "# qc = update_encoding(qc1, f, M)\n",
    "# qc.draw()\n",
    "\n"
   ]
  },
  {
   "cell_type": "code",
   "execution_count": 4,
   "id": "danish-bermuda",
   "metadata": {},
   "outputs": [],
   "source": [
    "def collision_Diffusion(circ, k):\n",
    "    circ.cx(0+2*k, 1+2*k)\n",
    "    circ.csx(1+2*k, 0+2*k)\n",
    "    circ.cx(0+2*k, 1+2*k)\n",
    "    circ.draw()\n",
    "    return circ\n",
    "\n",
    "def collision_Burgers(circ, k):\n",
    "    circ.cx(0+2*k, 1+2*k)\n",
    "    circ.ch(1+2*k, 0+2*k)\n",
    "    circ.cx(1+2*k, 0+2*k)\n",
    "    circ.cx(0+2*k, 1+2*k)\n",
    "    circ.cz(0+2*k, 1+2*k)\n",
    "    circ.draw()\n",
    "    return circ\n",
    "\n",
    "# qc.barrier()\n",
    "# for k in range(M):\n",
    "#     qc = collision_Diffusion(qc, k)\n",
    "# qc.draw()"
   ]
  },
  {
   "cell_type": "code",
   "execution_count": 47,
   "id": "editorial-concord",
   "metadata": {},
   "outputs": [
    {
     "data": {
      "text/latex": [
       "$$\n",
       "\\text{Statevector = }\n",
       "\\begin{bmatrix}\n",
       "0.14526 & 0.08386 & 0.08386 & 0.04842 & \\cdots & 0.00067 & 0.00067 & 0.00039  \\\\\n",
       " \\end{bmatrix}\n",
       "$$"
      ],
      "text/plain": [
       "<IPython.core.display.Latex object>"
      ]
     },
     "execution_count": 47,
     "metadata": {},
     "output_type": "execute_result"
    }
   ],
   "source": [
    "# # Retrieve the statevector_simulator backend\n",
    "backend = Aer.get_backend('statevector_simulator')\n",
    "\n",
    "result = execute(qc, backend, shots=10000).result()\n",
    "\n",
    "# Get the statevector from result().\n",
    "statevector = result.get_statevector(qc)\n",
    "array_to_latex(statevector, prefix=\"\\\\text{Statevector = }\")"
   ]
  },
  {
   "cell_type": "code",
   "execution_count": 8,
   "id": "aggregate-bench",
   "metadata": {},
   "outputs": [],
   "source": [
    "# print(qubit_counts[5]['1'])  # proba of qubit q5 at state 1\n",
    "def classical_streaming(M, qubit_counts, numberOfShots):\n",
    "    #read post collision probabilities\n",
    "    fout = np.zeros((2,M))\n",
    "    for k in range(M):\n",
    "        for i in range(2):\n",
    "            fout[i][k] = qubit_counts[i+2*k]['1'] / numberOfShots\n",
    "    \n",
    "#     print('fout', fout)\n",
    "    # classical streaming\n",
    "    for k in range(1,M):    #right \n",
    "        f[0][k] = fout[0][k-1]\n",
    "\n",
    "    for k in range(M-1):     #left\n",
    "        f[1][k] = fout[1][k+1]\n",
    "\n",
    "    #periodic BC\n",
    "    f[0][0] = f[0][M-1]\n",
    "    f[1][M-1] = f[1][0]\n",
    "\n",
    "    return f\n",
    "\n",
    "# f = classical_streaming(M, qubit_counts, numberOfShots)\n",
    "# rho = f[0] + f[1]\n",
    "# t=0\n",
    "# rho_exact = 1/4 * sigma0 / np.sqrt(sigma0**2 + 4*D*(t+1)) * np.exp(-(x-mu0)**2 / (sigma0**2 + 4*D*(t+1))) + 1/2\n",
    "# print('f', f)\n",
    "# print('rho', rho)\n",
    "# plt.plot(x, rho)\n",
    "# plt.plot(x, rho_exact)"
   ]
  },
  {
   "cell_type": "code",
   "execution_count": 6,
   "id": "marine-plaintiff",
   "metadata": {},
   "outputs": [],
   "source": [
    "def oneTimeStep(f, M, numberOfShots):\n",
    "    qc = QuantumCircuit(2*M)\n",
    "    #step1: encoding\n",
    "    qc = update_encoding(qc, f, M)\n",
    "    qc.barrier()\n",
    "    #step2: collision\n",
    "    for k in range(M):\n",
    "        qc = collision_Diffusion(qc, k)\n",
    "    #step3: measurement\n",
    "    qc.measure_all()\n",
    "#     qc.draw()\n",
    "    svsim = Aer.get_backend('aer_simulator')\n",
    "    result = execute(qc, svsim, shots=numberOfShots).result()\n",
    "    counts = result.get_counts(qc)\n",
    "    qubit_counts = [marginal_counts(counts, [qubit]) for qubit in range(2*M)]\n",
    "#     print(qubit_counts)\n",
    "    #step4: streaming\n",
    "    f = classical_streaming(M, qubit_counts, numberOfShots)\n",
    "    return f, qc"
   ]
  },
  {
   "cell_type": "code",
   "execution_count": 5,
   "id": "comfortable-elizabeth",
   "metadata": {},
   "outputs": [],
   "source": [
    "# Classical implementation of Yepez algorithm\n",
    "# number operators\n",
    "n1 = np.array([[0, 0, 0, 0],\n",
    "              [0, 1, 0, 0],\n",
    "              [0, 0, 0, 0],\n",
    "              [0, 0, 0, 1]])\n",
    "n2 = np.array([[0, 0, 0, 0],\n",
    "              [0, 0, 0, 0],\n",
    "              [0, 0, 1, 0],\n",
    "              [0, 0, 0, 1]])\n",
    " \n",
    "# collision operator  \n",
    "C_Burgers = np.array([[1, 0, 0, 0],\n",
    "                      [0, 1/np.sqrt(2), 1/np.sqrt(2), 0],\n",
    "                      [0, -1/np.sqrt(2), 1/np.sqrt(2), 0],\n",
    "                      [0, 0, 0, -1]])\n",
    "\n",
    "C_Diffusion = np.array([[1, 0, 0, 0],\n",
    "                      [0, (1+complex(0,1))/2 , (1-complex(0,1))/2 , 0],\n",
    "                      [0, (1-complex(0,1))/2 , (1+complex(0,1))/2 , 0],\n",
    "                      [0, 0, 0, 1]])\n",
    "\n",
    "\n",
    "def classicalOneTimeStep(f, M):\n",
    "#     initial combined state\n",
    "    initial_state = np.zeros((M, 4))\n",
    "    for i in range(M):\n",
    "        amp00 = np.sqrt( (1-f[0][i]) * (1-f[1][i]) )#2nd index = lattice site\n",
    "        amp10 = np.sqrt( (1-f[0][i]) * f[1][i] )\n",
    "        amp01 = np.sqrt( (1-f[1][i]) * f[0][i] )\n",
    "        amp11 = np.sqrt( f[0][i] * f[1][i] )\n",
    "#         print(amp00)\n",
    "        initial_state[i][0] = amp00\n",
    "        initial_state[i][1] = amp01\n",
    "        initial_state[i][2] = amp10\n",
    "        initial_state[i][3] = amp11\n",
    "    \n",
    "\n",
    "#     post-collision state (4xlattice_sites)\n",
    "    post_collision_state = C_Diffusion.dot(initial_state.conjugate().transpose())\n",
    "   # post-collision distribution\n",
    "#     print(post_collision_state.transpose())\n",
    "\n",
    "    post_collision_distribution = np.zeros((2, M))\n",
    "    for i in range(M):\n",
    "        post_collision_distribution[0][i] = post_collision_state.conjugate().transpose()[i].dot(n1.dot( post_collision_state.transpose()[i]))\n",
    "        post_collision_distribution[1][i] = post_collision_state.conjugate().transpose()[i].dot(n2.dot( post_collision_state.transpose()[i]))\n",
    "#         if i == 2:\n",
    "#             print(i)\n",
    "#             print(post_collision_state.conjugate().transpose()[i])\n",
    "#             print(post_collision_state.transpose()[i])\n",
    "    \n",
    "#     print(post_collision_distribution)\n",
    "\n",
    "\n",
    "#     STREAMING STEP \n",
    "    f[0][1:M] = post_collision_distribution[0][0:M-1]\n",
    "    f[1][0:M-1] = post_collision_distribution[1][1:M]\n",
    "\n",
    "#      periodic BC\n",
    "    f[0][0] = f[0][M-1]\n",
    "    f[1][M-1] = f[1][0]\n",
    "\n",
    "    return f"
   ]
  },
  {
   "cell_type": "markdown",
   "id": "distant-tomato",
   "metadata": {},
   "source": [
    "Main code"
   ]
  },
  {
   "cell_type": "code",
   "execution_count": 9,
   "id": "choice-groove",
   "metadata": {
    "scrolled": false
   },
   "outputs": [
    {
     "name": "stdout",
     "output_type": "stream",
     "text": [
      "t =  1\n"
     ]
    },
    {
     "name": "stderr",
     "output_type": "stream",
     "text": [
      "/Users/fatimaezahrachrit/anaconda3/lib/python3.7/site-packages/ipykernel_launcher.py:46: ComplexWarning: Casting complex values to real discards the imaginary part\n",
      "/Users/fatimaezahrachrit/anaconda3/lib/python3.7/site-packages/ipykernel_launcher.py:47: ComplexWarning: Casting complex values to real discards the imaginary part\n"
     ]
    },
    {
     "name": "stdout",
     "output_type": "stream",
     "text": [
      "Time elapsed in (s)=  32.87608003616333\n",
      "rho =  [0.4922 0.4949 0.6336 0.5001 0.6326 0.4922]\n",
      "rhoClassical =  [0.50228947 0.50228945 0.62500001 0.50457891 0.62500001 0.50228947]\n"
     ]
    },
    {
     "data": {
      "image/png": "[encoded data removed]",
      "text/plain": [
       "<Figure size 432x288 with 1 Axes>"
      ]
     },
     "metadata": {
      "needs_background": "light"
     },
     "output_type": "display_data"
    }
   ],
   "source": [
    "numberOfShots = 10000\n",
    "fini, rho = ini(x, w, cx, ux, csq)    #only once initially\n",
    "# print(f)\n",
    "maxT = 1   #number of time steps\n",
    "#initialize\n",
    "fq = fini\n",
    "fClassical = fini\n",
    "startTime = time.time()\n",
    "#main loop\n",
    "for t in range(1,maxT+1):\n",
    "    print('t = ', t)\n",
    "    #quantum implementation\n",
    "    fq, qc = oneTimeStep(fq, M, numberOfShots)\n",
    "    rho = fq[0] + fq[1]\n",
    "    #classical implementation\n",
    "    fClassical = classicalOneTimeStep(fClassical, M)\n",
    "    rhoClassical = fClassical[0] + fClassical[1]\n",
    "    #analytical solution\n",
    "    rho_exact = 1/4 * sigma0 / np.sqrt(sigma0**2 + 4*D*t) * np.exp(-(x-mu0)**2 / (sigma0**2 + 4*D*t)) + 1/2\n",
    "\n",
    "elapsed = time.time() - startTime\n",
    "print('Time elapsed in (s)= ', elapsed)\n",
    "print('rho = ', rho)\n",
    "print('rhoClassical = ', rhoClassical)\n",
    "\n",
    "plt.plot(x, rho)\n",
    "plt.plot(x, rhoClassical)\n",
    "plt.plot(x, rho_exact)\n",
    "plt.legend(['quantum', 'classical', 'exact'])\n",
    "plt.xlabel('Lattice site')\n",
    "plt.ylabel('Density')\n",
    "plt.title('Solution at t = ' + str(maxT))\n",
    "plt.savefig('t' + str(maxT) + '_M' + str(M) + '_D' + str(D) + '_' + str(numberOfShots) + 'shots.png')"
   ]
  },
  {
   "cell_type": "code",
   "execution_count": null,
   "id": "studied-martin",
   "metadata": {},
   "outputs": [],
   "source": []
  }
 ],
 "metadata": {
  "kernelspec": {
   "display_name": "Python 3",
   "language": "python",
   "name": "python3"
  },
  "language_info": {
   "codemirror_mode": {
    "name": "ipython",
    "version": 3
   },
   "file_extension": ".py",
   "mimetype": "text/x-python",
   "name": "python",
   "nbconvert_exporter": "python",
   "pygments_lexer": "ipython3",
   "version": "3.7.9"
  }
 },
 "nbformat": 4,
 "nbformat_minor": 5
}
